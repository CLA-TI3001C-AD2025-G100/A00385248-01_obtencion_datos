{
  "cells": [
    {
      "cell_type": "code",
      "execution_count": null,
      "id": "6687e013",
      "metadata": {
        "colab": {
          "base_uri": "https://localhost:8080/"
        },
        "id": "6687e013",
        "outputId": "12dfc25e-432c-4ffa-de4e-dc54380cfd97"
      },
      "outputs": [],
      "source": [
        "# Este es código de ejemplo para un script en Python\n",
        "print(\"Hola mundo\")\n",
        "print(\"Agregando código\")"
      ]
    },
    {
      "cell_type": "markdown",
      "id": "2057db7a",
      "metadata": {},
      "source": [
        "Esta es una celda"
      ]
    },
    {
      "cell_type": "code",
      "execution_count": null,
      "id": "fe18de65",
      "metadata": {
        "id": "fe18de65"
      },
      "outputs": [],
      "source": []
    }
  ],
  "metadata": {
    "colab": {
      "provenance": []
    },
    "kernelspec": {
      "display_name": "Python 3",
      "language": "python",
      "name": "python3"
    },
    "language_info": {
      "codemirror_mode": {
        "name": "ipython",
        "version": 3
      },
      "file_extension": ".py",
      "mimetype": "text/x-python",
      "name": "python",
      "nbconvert_exporter": "python",
      "pygments_lexer": "ipython3",
      "version": "3.12.1"
    }
  },
  "nbformat": 4,
  "nbformat_minor": 5
}
